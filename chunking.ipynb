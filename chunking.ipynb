{
 "cells": [
  {
   "cell_type": "code",
   "execution_count": 5,
   "metadata": {},
   "outputs": [
    {
     "data": {
      "image/png": "[encoded data removed]",
      "text/plain": [
       "<matplotlib.figure.Figure at 0x7efcca8b31d0>"
      ]
     },
     "metadata": {},
     "output_type": "display_data"
    }
   ],
   "source": [
    "import nltk\n",
    "from nltk.corpus import state_union\n",
    "from nltk.tokenize import PunktSentenceTokenizer\n",
    "\n",
    "train_text = state_union.raw(\"2005-GWBush.txt\")\n",
    "sample_text = state_union.raw(\"2006-GWBush.txt\")\n",
    "\n",
    "custom_sent_tokenizer = PunktSentenceTokenizer(train_text)\n",
    "tokenized = custom_sent_tokenizer.tokenize(sample_text)\n",
    "\n",
    "def process_content():\n",
    "    try:\n",
    "        for i in tokenized:\n",
    "            words = nltk.word_tokenize(i)\n",
    "            tagged = nltk.pos_tag(words)\n",
    "            chunkGram = \"\"\"\"Chunk:{<RB.?>*<VB.?>*<NNP><NN>} \"\"\"\n",
    "#             RB means adverb, NN is noun\n",
    "            chunkparser = nltk.RegexpParser(chunkGram)\n",
    "            chunked = chunkparser.parse(tagged)\n",
    "            print(chunked)\n",
    "#             chunked.draw()\n",
    "    except Exception as e:\n",
    "        print(str(e) + \"hello\")\n",
    "\n",
    "# process_content()\n",
    "\n",
    "\n",
    "import matplotlib.pyplot as plt\n",
    "plt.plot([[1, 2],[2 , 3] ,[3, 4],[4, 6]])\n",
    "plt.ylabel('some numbers')\n",
    "plt.show()\n",
    "\n",
    "# x=[1,2,3]\n",
    "# y=[9,8,7]\n",
    "\n",
    "# pyplot.plot(x,y)\n",
    "# for a,b in zip(x, y): \n",
    "#     pyplot.text(a, b, str(b))\n",
    "# pyplot.show()"
   ]
  },
  {
   "cell_type": "code",
   "execution_count": null,
   "metadata": {
    "collapsed": true
   },
   "outputs": [],
   "source": [
    "import nltk\n",
    "from nltk.corpus import state_union\n",
    "from nltk.tokenize import PunktSentenceTokenizer\n",
    "\n",
    "train_text = state_union.raw(\"2005-GWBush.txt\")\n",
    "sample_text = state_union.raw(\"2006-GWBush.txt\")\n",
    "\n",
    "custom_sent_tokenizer = PunktSentenceTokenizer(train_text)\n",
    "tokenized = custom_sent_tokenizer.tokenize(sample_text)\n",
    "\n",
    "def process_content():\n",
    "    try:\n",
    "        for i in tokenized:\n",
    "            words = nltk.word_tokenize(i)\n",
    "            tagged = nltk.pos_tag(words)\n",
    "            chunkGram = r\"\"\"\"Chunk: {<.*>+}\n",
    "            }<VB.?|IN|DT>+{ \"\"\"\n",
    "#             RB means adverb, NN is noun\n",
    "            chunkparser = nltk.RegexpParser(chunkGram)\n",
    "            chunked = chunkparser.parse(tagged)\n",
    "            print(chunked)\n",
    "#             chunked.draw()\n",
    "    except Exception as e:\n",
    "        print(str(e) + \"hello\")\n",
    "\n",
    "process_content()"
   ]
  },
  {
   "cell_type": "code",
   "execution_count": null,
   "metadata": {
    "collapsed": true
   },
   "outputs": [],
   "source": []
  }
 ],
 "metadata": {
  "kernelspec": {
   "display_name": "Python 3",
   "language": "python",
   "name": "python3"
  },
  "language_info": {
   "codemirror_mode": {
    "name": "ipython",
    "version": 3
   },
   "file_extension": ".py",
   "mimetype": "text/x-python",
   "name": "python",
   "nbconvert_exporter": "python",
   "pygments_lexer": "ipython3",
   "version": "3.6.3"
  }
 },
 "nbformat": 4,
 "nbformat_minor": 2
}

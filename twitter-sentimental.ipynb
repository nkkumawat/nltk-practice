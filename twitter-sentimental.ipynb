{
 "cells": [
  {
   "cell_type": "code",
   "execution_count": 19,
   "metadata": {},
   "outputs": [
    {
     "data": {
      "image/png": "[encoded data removed]",
      "text/plain": [
       "<matplotlib.figure.Figure at 0x7f5b2be5c1d0>"
      ]
     },
     "metadata": {},
     "output_type": "display_data"
    }
   ],
   "source": [
    "from tweepy import Stream\n",
    "from tweepy import OAuthHandler\n",
    "from tweepy.streaming import StreamListener\n",
    "import json\n",
    "\n",
    "import re\n",
    "from textblob import TextBlob\n",
    "import matplotlib.pyplot as plt\n",
    "from pylab import *\n",
    "\n",
    "ckey=\"59djlGCQt8aqbDzm2ShCD2wLV\"\n",
    "csecret=\"ukE5N7aaAW8T15L9dzF9cR2KC1b45pyvIZV8rrF2ZguXUPxPpb\"\n",
    "atoken=\"1005798468302958597-OAJEXF1lQHZV5ToWknoGq0R7eEy139\"\n",
    "asecret=\"wGNHb4R15FBqN8qCZcwUySKfVtDGnvw2HdlW5yngTz5Xv\"\n",
    "\n",
    "\n",
    "\n",
    "\n",
    "\n",
    "x = []\n",
    "y = []\n",
    "x_val = 0\n",
    "y_val = 0\n",
    "no_of_tweets = 100\n",
    "\n",
    "\n",
    "def clean_tweet(tweet):\n",
    "    return ' '.join(re.sub(\"(@[A-Za-z0-9]+)|([^0-9A-Za-z \\t])|(\\w+:\\/\\/\\S+)\", \" \", tweet).split())\n",
    "\n",
    "def sentimentalAnalysis(tweet):\n",
    "    analysis = TextBlob(clean_tweet(tweet))\n",
    "    if analysis.sentiment.polarity > 0:\n",
    "        return 'positive'\n",
    "    elif analysis.sentiment.polarity == 0:\n",
    "        return 'neutral'\n",
    "    else:\n",
    "        return 'negative'\n",
    "    \n",
    "\n",
    "class listener(StreamListener):\n",
    "    def on_data(self, data):\n",
    "        global x \n",
    "        global y \n",
    "        global x_val \n",
    "        global y_val \n",
    "        global no_of_tweets \n",
    "        all_data = json.loads(data)\n",
    "        tweet = all_data[\"text\"]\n",
    "        response = sentimentalAnalysis(tweet)\n",
    "        if response == 'positive':\n",
    "            x_val += 1\n",
    "            y_val += 1\n",
    "        elif response == 'negative':\n",
    "            x_val += 1\n",
    "            y_val -= 1\n",
    "        x.append(x_val)\n",
    "        y.append(y_val)\n",
    "        no_of_tweets -= 1\n",
    "#         print(str(x_val) + \" \"+ str(y_val) + \" \" + response)\n",
    "        if no_of_tweets == 0:\n",
    "            figure()\n",
    "            plot(x, y, 'r')\n",
    "            xlabel('x')\n",
    "            ylabel('y')\n",
    "            title('title')\n",
    "            show()\n",
    "            return False\n",
    "        else:\n",
    "            return True\n",
    "\n",
    "    def on_error(self, status):\n",
    "        print (\"Error \" + str(status))\n",
    "\n",
    "auth = OAuthHandler(ckey, csecret)\n",
    "auth.set_access_token(atoken, asecret)\n",
    "\n",
    "twitterStream = Stream(auth, listener())\n",
    "twitterStream.filter(track=[\"modi\"] )\n",
    "\n",
    "\n",
    "\n"
   ]
  },
  {
   "cell_type": "code",
   "execution_count": null,
   "metadata": {
    "collapsed": true
   },
   "outputs": [],
   "source": []
  },
  {
   "cell_type": "code",
   "execution_count": null,
   "metadata": {
    "collapsed": true
   },
   "outputs": [],
   "source": []
  }
 ],
 "metadata": {
  "kernelspec": {
   "display_name": "Python 3",
   "language": "python",
   "name": "python3"
  },
  "language_info": {
   "codemirror_mode": {
    "name": "ipython",
    "version": 3
   },
   "file_extension": ".py",
   "mimetype": "text/x-python",
   "name": "python",
   "nbconvert_exporter": "python",
   "pygments_lexer": "ipython3",
   "version": "3.6.3"
  }
 },
 "nbformat": 4,
 "nbformat_minor": 2
}

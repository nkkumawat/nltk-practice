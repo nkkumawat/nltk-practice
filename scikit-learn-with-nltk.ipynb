{
 "cells": [
  {
   "cell_type": "code",
   "execution_count": 4,
   "metadata": {},
   "outputs": [
    {
     "name": "stdout",
     "output_type": "stream",
     "text": [
      "nltk naive bayes  Acc is 85.0\n",
      "MNB Acc is 79.0\n",
      "BNB Acc is 74.0\n",
      "LogisticRegression  Acc is 77.0\n"
     ]
    },
    {
     "name": "stderr",
     "output_type": "stream",
     "text": [
      "/home/sonu/.local/lib/python3.6/site-packages/sklearn/linear_model/stochastic_gradient.py:128: FutureWarning: max_iter and tol parameters have been added in <class 'sklearn.linear_model.stochastic_gradient.SGDClassifier'> in 0.19. If both are left unset, they default to max_iter=5 and tol=None. If tol is not None, max_iter defaults to max_iter=1000. From 0.21, default max_iter will be 1000, and default tol will be 1e-3.\n",
      "  \"and default tol will be 1e-3.\" % type(self), FutureWarning)\n"
     ]
    },
    {
     "name": "stdout",
     "output_type": "stream",
     "text": [
      "SGDClassifier Acc is 73.0\n",
      "SVC Acc is 71.0\n",
      "LinearSVC_clf Acc is 76.0\n",
      "NuSVC Acc is 79.0\n"
     ]
    }
   ],
   "source": [
    "import nltk\n",
    "import random\n",
    "from nltk.corpus import movie_reviews\n",
    "from nltk.classify.scikitlearn import SklearnClassifier\n",
    "import pickle\n",
    "from sklearn.naive_bayes import MultinomialNB, GaussianNB, BernoulliNB\n",
    "from sklearn.linear_model import LogisticRegression , SGDClassifier\n",
    "from sklearn.svm import SVC, LinearSVC, NuSVC\n",
    "\n",
    "\n",
    "\n",
    "\n",
    "    \n",
    "    \n",
    "        \n",
    "\n",
    "\n",
    "\n",
    "\n",
    "\n",
    "documents = [(list(movie_reviews.words(fileid)) , category)\n",
    "            for category in movie_reviews.categories()\n",
    "            for fileid in movie_reviews.fileids(category)]\n",
    "\n",
    "random.shuffle(documents)\n",
    "\n",
    "all_words = []\n",
    "\n",
    "for w in movie_reviews.words():\n",
    "    all_words.append(w.lower())\n",
    "\n",
    "all_words = nltk.FreqDist(all_words)\n",
    "\n",
    "word_features = list(all_words.keys())[:3000]\n",
    "\n",
    "def find_features(document):\n",
    "    words = set(document)\n",
    "    features = {}\n",
    "    for w in word_features:\n",
    "        features[w] = (w in words)\n",
    "    return features\n",
    "\n",
    "find_features(movie_reviews.words('neg/cv000_29416.txt'))\n",
    "\n",
    "featuresets = [(find_features(rev) , category)\n",
    "              for (rev , category) in documents]\n",
    "\n",
    "\n",
    "training_set = featuresets[:1900]\n",
    "testing_set = featuresets[1900:]\n",
    "\n",
    "# clf = nltk.NaiveBayesClassifier.train(training_set)\n",
    "clf_file = open(\"naivebayes.pickle\", \"rb\") # load from pickle\n",
    "clf = pickle.load(clf_file)\n",
    "clf_file.close()\n",
    "\n",
    "acc = nltk.classify.accuracy(clf , testing_set)\n",
    "\n",
    "print(\"nltk naive bayes  Acc is \" +str( acc*100))\n",
    "# clf.show_most_informative_features(15) # 15 most informative features\n",
    "\n",
    "\n",
    "# MNB classifiers\n",
    "MNB_clf = SklearnClassifier(MultinomialNB())\n",
    "MNB_clf.train(training_set)\n",
    "acc = nltk.classify.accuracy(MNB_clf , testing_set)\n",
    "print(\"MNB Acc is \" +str( acc*100))\n",
    "# clf.show_most_informative_features(15) # 15 most informative features\n",
    "\n",
    "# Bernoulli classifiers\n",
    "BNB_clf = SklearnClassifier(BernoulliNB())\n",
    "BNB_clf.train(training_set)\n",
    "acc = nltk.classify.accuracy(BNB_clf , testing_set)\n",
    "print(\"BNB Acc is \" +str( acc*100))\n",
    "# clf.show_most_informative_features(15) # 15 most informative features\n",
    "\n",
    "# LogisticRegression classifiers\n",
    "LogisticRegression_clf = SklearnClassifier(LogisticRegression())\n",
    "LogisticRegression_clf.train(training_set)\n",
    "acc = nltk.classify.accuracy(LogisticRegression_clf , testing_set)\n",
    "print(\"LogisticRegression  Acc is \" +str( acc*100))\n",
    "\n",
    "# SGDClassifier classifiers\n",
    "SGDClassifier_clf = SklearnClassifier(SGDClassifier())\n",
    "SGDClassifier_clf.train(training_set)\n",
    "acc = nltk.classify.accuracy(SGDClassifier_clf , testing_set)\n",
    "print(\"SGDClassifier Acc is \" +str( acc*100))\n",
    "\n",
    "# SVC classifiers\n",
    "SVC_clf = SklearnClassifier(SVC())\n",
    "SVC_clf.train(training_set)\n",
    "acc = nltk.classify.accuracy(SVC_clf , testing_set)\n",
    "print(\"SVC Acc is \" +str( acc*100))\n",
    "\n",
    "# LinearSVC_clf classifiers\n",
    "LinearSVC_clf = SklearnClassifier(LinearSVC())\n",
    "LinearSVC_clf.train(training_set)\n",
    "acc = nltk.classify.accuracy(LinearSVC_clf , testing_set)\n",
    "print(\"LinearSVC_clf Acc is \" +str( acc*100))\n",
    "\n",
    "# NuSVC classifiers\n",
    "NuSVC_clf = SklearnClassifier(NuSVC())\n",
    "NuSVC_clf.train(training_set)\n",
    "acc = nltk.classify.accuracy(NuSVC_clf , testing_set)\n",
    "print(\"NuSVC Acc is \" +str( acc*100))"
   ]
  },
  {
   "cell_type": "code",
   "execution_count": null,
   "metadata": {
    "collapsed": true
   },
   "outputs": [],
   "source": []
  }
 ],
 "metadata": {
  "kernelspec": {
   "display_name": "Python 3",
   "language": "python",
   "name": "python3"
  },
  "language_info": {
   "codemirror_mode": {
    "name": "ipython",
    "version": 3
   },
   "file_extension": ".py",
   "mimetype": "text/x-python",
   "name": "python",
   "nbconvert_exporter": "python",
   "pygments_lexer": "ipython3",
   "version": "3.6.3"
  }
 },
 "nbformat": 4,
 "nbformat_minor": 2
}

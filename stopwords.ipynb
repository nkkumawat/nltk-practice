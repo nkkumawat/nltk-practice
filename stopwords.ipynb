{
 "cells": [
  {
   "cell_type": "code",
   "execution_count": 5,
   "metadata": {},
   "outputs": [
    {
     "name": "stdout",
     "output_type": "stream",
     "text": [
      "{'m', 'of', 'you', 'to', \"didn't\", 'shouldn', \"wasn't\", 'as', \"aren't\", 'herself', 'hers', 'after', 'too', 'now', 'i', 'd', \"weren't\", 'just', 'at', 've', 'their', \"hasn't\", 'what', 'them', 'up', 'weren', 'where', 'but', 'about', 'it', 'so', 'won', 'is', \"you'd\", 'ours', \"wouldn't\", 'again', 'had', 'll', 'have', 'shan', 'they', 'not', 'these', \"mightn't\", 'whom', 'or', \"she's\", \"shouldn't\", 'my', 'your', 'did', 'in', 'each', 'she', 'theirs', 'very', 'mightn', 'through', 'because', 'than', 'wouldn', 'between', 'ma', 'below', \"isn't\", 'with', 'doing', 'before', 'yours', \"don't\", 'only', 'those', \"doesn't\", 'isn', \"haven't\", \"you're\", 'o', 'couldn', 'some', 'from', 'a', 'down', 'his', \"should've\", 'an', 'ourselves', 'doesn', 't', 'he', 'this', 's', 'when', \"hadn't\", 'itself', 'should', 'against', 'further', 'most', 'that', 'yourselves', 'for', 'needn', 'such', 'its', 'ain', 'here', 'few', \"couldn't\", 'me', 'all', 'no', 'haven', 'y', \"you'll\", 'once', 'will', 'wasn', 'myself', 'her', 'while', 'don', 'who', 'be', 'out', 'having', 're', \"mustn't\", 'into', 'how', 'other', 'do', 'being', 'by', 'if', 'nor', \"won't\", 'on', \"you've\", 'then', 'aren', 'more', 'there', \"it's\", 'was', 'above', 'does', 'didn', 'under', 'off', 'our', 'same', 'themselves', \"shan't\", 'over', 'were', 'am', 'why', 'which', 'has', 'any', 'been', \"needn't\", 'we', 'himself', 'yourself', \"that'll\", 'can', 'both', 'during', 'the', 'are', 'him', 'until', 'mustn', 'hasn', 'hadn', 'own', 'and'}\n"
     ]
    }
   ],
   "source": [
    "from nltk.corpus import stopwords\n",
    "from nltk.tokenize import word_tokenize\n",
    "example_sentence = \"hello aman, Narendra Kumawat, Pawan Kumar , Chomu Lampu out mustn don\"\n",
    "stop_word = set(stopwords.words('english'))\n",
    "print(stop_word)"
   ]
  },
  {
   "cell_type": "code",
   "execution_count": 6,
   "metadata": {},
   "outputs": [
    {
     "name": "stdout",
     "output_type": "stream",
     "text": [
      "['hello', 'aman', ',', 'Narendra', 'Kumawat', ',', 'Pawan', 'Kumar', ',', 'Chomu', 'Lampu']\n"
     ]
    }
   ],
   "source": [
    "    words = word_tokenize(example_sentence)\n",
    "    filtered_sentence = []\n",
    "    for w in words:\n",
    "        if w not in stop_word:\n",
    "            filtered_sentence.append(w)\n",
    "    \n",
    "    print(filtered_sentence)"
   ]
  },
  {
   "cell_type": "code",
   "execution_count": null,
   "metadata": {
    "collapsed": true
   },
   "outputs": [],
   "source": []
  },
  {
   "cell_type": "code",
   "execution_count": null,
   "metadata": {
    "collapsed": true
   },
   "outputs": [],
   "source": []
  }
 ],
 "metadata": {
  "kernelspec": {
   "display_name": "Python 3",
   "language": "python",
   "name": "python3"
  },
  "language_info": {
   "codemirror_mode": {
    "name": "ipython",
    "version": 3
   },
   "file_extension": ".py",
   "mimetype": "text/x-python",
   "name": "python",
   "nbconvert_exporter": "python",
   "pygments_lexer": "ipython3",
   "version": "3.6.3"
  }
 },
 "nbformat": 4,
 "nbformat_minor": 2
}

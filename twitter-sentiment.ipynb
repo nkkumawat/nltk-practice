{
 "cells": [
  {
   "cell_type": "code",
   "execution_count": 4,
   "metadata": {},
   "outputs": [
    {
     "ename": "ModuleNotFoundError",
     "evalue": "No module named 'sentiment_mod'",
     "output_type": "error",
     "traceback": [
      "\u001b[0;31m---------------------------------------------------------------------------\u001b[0m",
      "\u001b[0;31mModuleNotFoundError\u001b[0m                       Traceback (most recent call last)",
      "\u001b[0;32m<ipython-input-4-e314f4ec6967>\u001b[0m in \u001b[0;36m<module>\u001b[0;34m()\u001b[0m\n\u001b[1;32m      2\u001b[0m \u001b[0;32mfrom\u001b[0m \u001b[0mtweepy\u001b[0m \u001b[0;32mimport\u001b[0m \u001b[0mOAuthHandler\u001b[0m\u001b[0;34m\u001b[0m\u001b[0m\n\u001b[1;32m      3\u001b[0m \u001b[0;32mfrom\u001b[0m \u001b[0mtweepy\u001b[0m\u001b[0;34m.\u001b[0m\u001b[0mstreaming\u001b[0m \u001b[0;32mimport\u001b[0m \u001b[0mStreamListener\u001b[0m\u001b[0;34m\u001b[0m\u001b[0m\n\u001b[0;32m----> 4\u001b[0;31m \u001b[0;32mimport\u001b[0m \u001b[0msentiment_mod\u001b[0m \u001b[0;32mas\u001b[0m \u001b[0msen_mod\u001b[0m\u001b[0;34m\u001b[0m\u001b[0m\n\u001b[0m\u001b[1;32m      5\u001b[0m \u001b[0;32mimport\u001b[0m \u001b[0mjson\u001b[0m\u001b[0;34m\u001b[0m\u001b[0m\n\u001b[1;32m      6\u001b[0m \u001b[0;34m\u001b[0m\u001b[0m\n",
      "\u001b[0;31mModuleNotFoundError\u001b[0m: No module named 'sentiment_mod'"
     ]
    }
   ],
   "source": [
    "from tweepy import Stream\n",
    "from tweepy import OAuthHandler\n",
    "from tweepy.streaming import StreamListener\n",
    "import sentiment_mod as sen_mod\n",
    "import json\n",
    "\n",
    "\n",
    "# ckey=\"59djlGCQt8aqbDzm2ShCD2wLV\"\n",
    "# csecret=\"ukE5N7aaAW8T15L9dzF9cR2KC1b45pyvIZV8rrF2ZguXUPxPpb\"\n",
    "# atoken=\"1005798468302958597-OAJEXF1lQHZV5ToWknoGq0R7eEy139\"\n",
    "# asecret=\"wGNHb4R15FBqN8qCZcwUySKfVtDGnvw2HdlW5yngTz5Xv\"\n",
    "\n",
    "\n",
    "# class listener(StreamListener):\n",
    "\n",
    "#     def on_data(self, data):\n",
    "#         all_data = json.loads(data)\n",
    "#         tweet = all_data[\"text\"]\n",
    "#         sentiment_val , confidance = sen_mod.sentiment(tweet)\n",
    "#         print(tweet , sentiment_val , confidance)\n",
    "        \n",
    "#         if(confidance*100 >= 80):\n",
    "#             output = open(\"twitter-out.txt\" , \"a\")\n",
    "#             output.write(sentiment_val)\n",
    "#             output.write(\"\\n\")\n",
    "#             output.close()\n",
    "            \n",
    "        \n",
    "#         return True\n",
    "\n",
    "#     def on_error(self, status):\n",
    "#         print (\"Error \" + status)\n",
    "\n",
    "# auth = OAuthHandler(ckey, csecret)\n",
    "# auth.set_access_token(atoken, asecret)\n",
    "\n",
    "# twitterStream = Stream(auth, listener())\n",
    "# twitterStream.filter(track=[\"car\"])"
   ]
  },
  {
   "cell_type": "code",
   "execution_count": null,
   "metadata": {
    "collapsed": true
   },
   "outputs": [],
   "source": []
  }
 ],
 "metadata": {
  "kernelspec": {
   "display_name": "Python 3",
   "language": "python",
   "name": "python3"
  },
  "language_info": {
   "codemirror_mode": {
    "name": "ipython",
    "version": 3
   },
   "file_extension": ".py",
   "mimetype": "text/x-python",
   "name": "python",
   "nbconvert_exporter": "python",
   "pygments_lexer": "ipython3",
   "version": "3.6.3"
  }
 },
 "nbformat": 4,
 "nbformat_minor": 2
}
